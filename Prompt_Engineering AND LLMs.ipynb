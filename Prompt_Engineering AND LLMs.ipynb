{
 "cells": [
  {
   "cell_type": "code",
   "execution_count": 6,
   "id": "bd46ff6c-c778-432a-a27a-a943d9781970",
   "metadata": {},
   "outputs": [],
   "source": [
    "import google.generativeai as genai"
   ]
  },
  {
   "cell_type": "code",
   "execution_count": 7,
   "id": "f4a29d57-0599-4edc-84ed-f8f6e25e1a49",
   "metadata": {},
   "outputs": [],
   "source": [
    "genai.configure(api_key='**********************')\n",
    "# Go to google cloud then search for enable API -> enable generative ai api then -> click on credentials -> copy your key and paste here"
   ]
  },
  {
   "cell_type": "code",
   "execution_count": 8,
   "id": "b970415e-6948-44f7-83c9-d5d42745429e",
   "metadata": {},
   "outputs": [],
   "source": [
    "model = genai.GenerativeModel(model_name=\"gemini-1.5-pro-001\")"
   ]
  },
  {
   "cell_type": "code",
   "execution_count": 62,
   "id": "bfeb24f6-85ee-4d75-83fc-b3f4edb6800d",
   "metadata": {},
   "outputs": [],
   "source": [
    "prompt = 'create a multiple choice question on Indian History'"
   ]
  },
  {
   "cell_type": "code",
   "execution_count": 64,
   "id": "9f0cf407-7208-4fd7-8772-759d78a1404a",
   "metadata": {},
   "outputs": [],
   "source": [
    "response = model.generate_content(contents=prompt)"
   ]
  },
  {
   "cell_type": "code",
   "execution_count": 66,
   "id": "20278b04-1b96-458e-ae4e-6d0795d8a8f8",
   "metadata": {},
   "outputs": [],
   "source": [
    "string = str(response.parts)"
   ]
  },
  {
   "cell_type": "code",
   "execution_count": 68,
   "id": "1d116fc1-7054-4546-b077-c2a8f4fda06b",
   "metadata": {},
   "outputs": [],
   "source": [
    "decoded_string = codecs.decode(string, 'unicode_escape')"
   ]
  },
  {
   "cell_type": "code",
   "execution_count": 70,
   "id": "2f043681-60aa-4360-9bb1-fbd019c55579",
   "metadata": {},
   "outputs": [
    {
     "name": "stdout",
     "output_type": "stream",
     "text": [
      "[text: \"Which of these historical periods in India is the **oldest**?\n",
      "\n",
      "a) The Mughal Empire\n",
      "b) The Gupta Empire\n",
      "c) The Mauryan Empire\n",
      "d) The Indus Valley Civilization\n",
      "\n",
      "**Correct Answer:** d) The Indus Valley Civilization \n",
      "\"\n",
      "]\n"
     ]
    }
   ],
   "source": [
    "print(decoded_string)"
   ]
  },
  {
   "cell_type": "markdown",
   "id": "83fdfdbd-3a27-4ae5-b54e-d9b3874ffe85",
   "metadata": {},
   "source": [
    "# Summerization Of Large Text"
   ]
  },
  {
   "cell_type": "code",
   "execution_count": 72,
   "id": "1ff0ce21-2ce0-48eb-9133-26d0bfd0e13c",
   "metadata": {},
   "outputs": [],
   "source": [
    "avengers = '''\n",
    "The Avengers, a team of superheroes from Marvel Comics, has become a cultural touchstone, representing the pinnacle of modern blockbuster filmmaking. First appearing together in \"The Avengers\" (2012), the ensemble cast brought together iconic characters such as Iron Man, Captain America, Thor, Hulk, Black Widow, and Hawkeye. Under the visionary direction of Joss Whedon, the film achieved monumental success, both critically and commercially, cementing the Marvel Cinematic Universe (MCU) as a dominant force in Hollywood.\n",
    "\n",
    "Origins and Evolution\n",
    "\n",
    "The Avengers were created by writer Stan Lee and artist Jack Kirby, first appearing in \"The Avengers #1\" comic book in 1963. The original team consisted of Iron Man, Thor, Hulk, Ant-Man, and Wasp, who joined forces to combat threats too great for any single hero to handle. Over the decades, the roster has expanded to include a diverse array of characters, reflecting changes in societal values and storytelling trends.\n",
    "\n",
    "The cinematic version of The Avengers began with individual films introducing each main character, starting with \"Iron Man\" in 2008. This approach allowed for deep character development and set the stage for their eventual union. \"The Avengers\" (2012) marked the culmination of Marvel's Phase One, bringing these heroes together to stop Loki and an alien invasion, orchestrated by the powerful Thanos.\n",
    "\n",
    "Impact on Popular Culture\n",
    "\n",
    "The success of \"The Avengers\" redefined what was possible in filmmaking. It was the first movie to bring together multiple protagonists from separate franchises into a cohesive narrative, a risky venture that paid off spectacularly. The film's success was not just a financial triumph, grossing over $1.5 billion worldwide, but also a critical one, praised for its script, direction, and performances.\n",
    "\n",
    "This success paved the way for future team-up movies and established the MCU's model of interconnected storytelling, influencing other studios to attempt similar cinematic universes. The cultural impact of The Avengers extends beyond the screen, inspiring merchandise, video games, theme park attractions, and a dedicated fan base that spans generations.\n",
    "\n",
    "Character Dynamics and Themes\n",
    "'''"
   ]
  },
  {
   "cell_type": "code",
   "execution_count": 84,
   "id": "c56cba51-848b-41b1-af80-d0dc9e0eff96",
   "metadata": {},
   "outputs": [],
   "source": [
    "prompt = f\"Proveide a 3  bullet point summary of following article \\n {avengers}\""
   ]
  },
  {
   "cell_type": "code",
   "execution_count": 86,
   "id": "07ab1e49-4955-4ee8-b8de-6f4e93752991",
   "metadata": {},
   "outputs": [],
   "source": [
    "response = model.generate_content(contents = prompt)"
   ]
  },
  {
   "cell_type": "code",
   "execution_count": 87,
   "id": "5921e2b0-7209-41c4-9288-74518765934b",
   "metadata": {},
   "outputs": [],
   "source": [
    "string = str(response.parts)"
   ]
  },
  {
   "cell_type": "code",
   "execution_count": 88,
   "id": "ebb67504-1a54-49a2-be9a-6053d51d5af3",
   "metadata": {},
   "outputs": [],
   "source": [
    "decoded_string = codecs.decode(string, 'unicode_escape')"
   ]
  },
  {
   "cell_type": "code",
   "execution_count": 89,
   "id": "3e8b4034-0934-4bb9-b148-db738ef3f4c0",
   "metadata": {},
   "outputs": [
    {
     "name": "stdout",
     "output_type": "stream",
     "text": [
      "[text: \"Here's a 3-bullet point summary of the article: \n",
      "\n",
      "* **A Cinematic Phenomenon:** The Avengers, a superhero team from Marvel Comics, achieved immense success in their 2012 film debut. This success cemented the Marvel Cinematic Universe (MCU) as a major force in Hollywood, demonstrating the power of interconnected storytelling and ensemble casts.\n",
      "* **From Comics to Cultural Icon:**  Originating in 1963, The Avengers comic book series saw various heroes team up against larger threats. This concept translated successfully to film, with individual character movies culminating in the epic team-up film \"The Avengers.\" \n",
      "* **Enduring Legacy:** The impact of The Avengers extends beyond box office numbers. It influenced a wave of team-up movies, redefined blockbuster filmmaking, and continues to inspire merchandise, video games, and generations of devoted fans. \n",
      "\"\n",
      "]\n"
     ]
    }
   ],
   "source": [
    "print(decoded_string)"
   ]
  },
  {
   "cell_type": "markdown",
   "id": "10df7108-c9ba-43a1-aa13-9294e48bbf8e",
   "metadata": {},
   "source": [
    "## Classification Task"
   ]
  },
  {
   "cell_type": "code",
   "execution_count": 18,
   "id": "f0b55ee8-c3db-45c7-a950-0d2de9f040af",
   "metadata": {},
   "outputs": [],
   "source": [
    "tweet = '''\n",
    "Feeling overwhelmed and burnt out. Sometimes it feels like no matter how hard you try, things just don't get better. 😞 #Frustrated #Exhausted #Overwhelmed\"\n",
    "'''"
   ]
  },
  {
   "cell_type": "code",
   "execution_count": 19,
   "id": "543eb261-fd88-48d9-936d-1466052e4245",
   "metadata": {},
   "outputs": [],
   "source": [
    "# Using One Shot Learning\n",
    "prompt = f'''Classify the following Tweet as one of the following category \n",
    "      1- Positive \n",
    "      2 - Negative \n",
    "      3 - Neutral\n",
    "      Tweet = Every day is a new opportunity to grow, learn, and shine brighter than ever. Embrace the journey and spread positivity \\n\n",
    "      wherever you go! 🌈✨ #MotivationMonday #PositiveVibes #KeepSmiling\"\n",
    "      Output -> Positive \n",
    "      Tweet -> {tweet}\n",
    "      Output ->\n",
    "      '''"
   ]
  },
  {
   "cell_type": "code",
   "execution_count": 20,
   "id": "bace89f4-88a1-4c2f-99d4-3b426917759c",
   "metadata": {},
   "outputs": [],
   "source": [
    "response = model.generate_content(contents = prompt)"
   ]
  },
  {
   "cell_type": "code",
   "execution_count": 21,
   "id": "493c5b55-5e97-4a25-844b-536af22eeded",
   "metadata": {},
   "outputs": [
    {
     "name": "stdout",
     "output_type": "stream",
     "text": [
      "[text: \"Output -> **Negative** \\n\"\n",
      "]\n"
     ]
    }
   ],
   "source": [
    "print(response.parts)"
   ]
  },
  {
   "cell_type": "markdown",
   "id": "eb6684f3-9103-401c-ae3c-17d245af7b95",
   "metadata": {},
   "source": [
    "# Extraction Task"
   ]
  },
  {
   "cell_type": "code",
   "execution_count": 23,
   "id": "2fb83fc4-ae44-4828-a33c-25c5e1ef8e7b",
   "metadata": {},
   "outputs": [],
   "source": [
    "# Let's say we have a tweet which has 2 parts first is negative second is positive \n",
    "tweet = '''\n",
    "Today has been a rollercoaster. Feeling grateful for the little wins but also struggling with some unexpected challenges. One step at a time. 🌟😔 #MixedEmotions #StayStrong\"\n",
    "'''"
   ]
  },
  {
   "cell_type": "code",
   "execution_count": 24,
   "id": "2cd855e3-b2bf-4ad0-9f88-465d280aebe4",
   "metadata": {},
   "outputs": [],
   "source": [
    "prompt = f''' Given a tweet below where one part of tweet may be positive and another part may be negative extract the parts and classify\n",
    "accordingly in (positive,negative, neutral) \\n\n",
    "{tweet}\n",
    "'''"
   ]
  },
  {
   "cell_type": "code",
   "execution_count": 25,
   "id": "8e3f5df3-5882-4d21-b832-f35a0e4d3e31",
   "metadata": {},
   "outputs": [],
   "source": [
    "response = model.generate_content(contents = prompt)"
   ]
  },
  {
   "cell_type": "code",
   "execution_count": 26,
   "id": "78c16aef-2c37-4155-ae4c-71bba7696d46",
   "metadata": {},
   "outputs": [],
   "source": [
    "string = str(response.parts)"
   ]
  },
  {
   "cell_type": "code",
   "execution_count": 60,
   "id": "a4d80420-8c09-470e-8c8b-a3b2ab73cbb0",
   "metadata": {},
   "outputs": [],
   "source": [
    "# Decode the string\n",
    "import codecs\n",
    "decoded_string = codecs.decode(string, 'unicode_escape')"
   ]
  },
  {
   "cell_type": "code",
   "execution_count": 58,
   "id": "fddbf9ba-0713-4524-a4dc-5583e3d2706b",
   "metadata": {},
   "outputs": [
    {
     "name": "stdout",
     "output_type": "stream",
     "text": [
      "[text: \"Here's a breakdown of the tweet's sentiment and its components:\n",
      "\n",
      "**Positive:**\n",
      "\n",
      "* **\"Feeling grateful for the little wins\"** -  This phrase clearly expresses gratitude and focuses on the positive aspects of the day.\n",
      "* **\"ð\"** - The star emoji is a common symbol for positivity, hope, and good feelings.\n",
      "\n",
      "**Negative:**\n",
      "\n",
      "* **\"struggling with some unexpected challenges\"** - This part reveals a struggle and uses the negative word \"challenges.\"\n",
      "* **\"ð\"** - This emoji commonly represents sadness, disappointment, or frustration.\n",
      "\n",
      "**Neutral:**\n",
      "\n",
      "* **\"Today has been a rollercoaster.\"** - This is a metaphor describing the day as full of ups and downs but doesn't inherently lean positive or negative. \n",
      "* **\"One step at a time.\"** - This expresses a resilient attitude but is neutral in terms of positive or negative emotions. \n",
      "* **\"#MixedEmotions #StayStrong\"** - These hashtags acknowledge the mixed feelings and encourage resilience but aren't specifically positive or negative. \n",
      " \n",
      "**Overall Sentiment:** While the tweet contains both positive and negative elements, the overall tone leans slightly towards **negative** due to the emphasis on \"struggles\" and the use of the sad emoji. \n",
      "\"\n",
      "]\n"
     ]
    }
   ],
   "source": [
    "print(decoded_string)"
   ]
  },
  {
   "cell_type": "markdown",
   "id": "580e9b24-10dc-455d-a6a1-33be52ead941",
   "metadata": {},
   "source": [
    "# Translation"
   ]
  },
  {
   "cell_type": "code",
   "execution_count": 95,
   "id": "f171d07b-fadd-4e67-acc2-febaf31b903b",
   "metadata": {},
   "outputs": [],
   "source": [
    "text = 'How Are You ?'\n",
    "prompt = f''' Translate the following text in Hindi {text}'''"
   ]
  },
  {
   "cell_type": "code",
   "execution_count": 97,
   "id": "0aa8903f-0ae9-45d6-9966-e1462cd9873b",
   "metadata": {},
   "outputs": [],
   "source": [
    "response = model.generate_content(contents = prompt)"
   ]
  },
  {
   "cell_type": "code",
   "execution_count": 99,
   "id": "82b718b0-3224-4e5d-9d80-2890ff4ff9da",
   "metadata": {},
   "outputs": [],
   "source": [
    "output = str(response.parts)"
   ]
  },
  {
   "cell_type": "code",
   "execution_count": 105,
   "id": "454c5ff4-17a7-4c0f-b114-19fb61c6022a",
   "metadata": {},
   "outputs": [
    {
     "name": "stdout",
     "output_type": "stream",
     "text": [
      "[text: \"\"How are you?\" can be translated to Hindi in a few ways, depending on the level of formality: \n",
      "\n",
      "* **Formal:**  à¤à¤ª à¤à¥à¤¸à¥ à¤¹à¥à¤?  (aap kaise hain?) \n",
      "* **Informal:**  à¤¤à¥à¤® à¤à¥à¤¸à¥ à¤¹à¥?  (tum kaise ho?)\n",
      "* **More casual:**  à¤à¥à¤¯à¤¾ à¤¹à¤¾à¤² à¤¹à¥? (kya haal hai?) - This literally translates to \"What's the state?\" but is used as \"How are you?\".\n",
      "\n",
      "The best option would depend on your relationship with the person you are addressing. \n",
      "\"\n",
      "]\n"
     ]
    }
   ],
   "source": [
    "print(codecs.decode(output,'unicode_escape'))"
   ]
  },
  {
   "cell_type": "code",
   "execution_count": null,
   "id": "ec03b434-8bdd-4458-97c4-abbf782f65ad",
   "metadata": {},
   "outputs": [],
   "source": []
  }
 ],
 "metadata": {
  "kernelspec": {
   "display_name": "Python 3 (ipykernel)",
   "language": "python",
   "name": "python3"
  },
  "language_info": {
   "codemirror_mode": {
    "name": "ipython",
    "version": 3
   },
   "file_extension": ".py",
   "mimetype": "text/x-python",
   "name": "python",
   "nbconvert_exporter": "python",
   "pygments_lexer": "ipython3",
   "version": "3.12.4"
  }
 },
 "nbformat": 4,
 "nbformat_minor": 5
}
